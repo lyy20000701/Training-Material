{
 "cells": [
  {
   "cell_type": "markdown",
   "id": "415569ea",
   "metadata": {},
   "source": [
    "# Python Exercises on CyberSecurity"
   ]
  },
  {
   "cell_type": "markdown",
   "id": "ba40ddb7",
   "metadata": {},
   "source": [
    "# Base64 Encoding"
   ]
  },
  {
   "cell_type": "code",
   "execution_count": null,
   "id": "21c096dc",
   "metadata": {},
   "outputs": [],
   "source": [
    "import base64\n",
    "\n",
    "# Original string\n",
    "original_string = \"Hello, World!\"\n",
    "\n",
    "# Encoding the string to bytes, then to Base64\n",
    "encoded_bytes = base64.b64encode(original_string.encode(\"utf-8\"))\n",
    "encoded_string = encoded_bytes.decode(\"utf-8\")\n",
    "\n",
    "print(f\"Encoded string: {encoded_string}\")"
   ]
  },
  {
   "cell_type": "code",
   "execution_count": null,
   "id": "20da1bde",
   "metadata": {},
   "outputs": [],
   "source": [
    "# Decoding the Base64 encoded string back to the original string\n",
    "decoded_bytes = base64.b64decode(encoded_string.encode(\"utf-8\"))\n",
    "decoded_string = decoded_bytes.decode(\"utf-8\")\n",
    "\n",
    "print(f\"Decoded string: {decoded_string}\")\n"
   ]
  },
  {
   "cell_type": "code",
   "execution_count": null,
   "id": "ed155a6e",
   "metadata": {},
   "outputs": [],
   "source": [
    "import base64\n",
    "\n",
    "image_path = \"banana1.jpg\"\n",
    "\n",
    "# Read the image file in binary mode\n",
    "with open(image_path, \"rb\") as image_file:\n",
    "    # Encode the image to Base64\n",
    "    encoded_string = base64.b64encode(image_file.read()).decode(\"utf-8\")\n",
    "\n",
    "# Print the Base64 string (this can be long for large images)\n",
    "print(encoded_string)"
   ]
  },
  {
   "cell_type": "code",
   "execution_count": null,
   "id": "ee7195be",
   "metadata": {},
   "outputs": [],
   "source": [
    "# Decode the Base64 string to binary data\n",
    "decoded_image = base64.b64decode(encoded_string)\n",
    "\n",
    "# Save the decoded image to a file\n",
    "output_path = \"banana2.jpg\"\n",
    "with open(output_path, \"wb\") as image_file:\n",
    "    image_file.write(decoded_image)\n",
    "\n",
    "print(\"Image saved successfully!\")"
   ]
  },
  {
   "cell_type": "markdown",
   "id": "d7290996",
   "metadata": {},
   "source": [
    "# Symmetric Encryption Example"
   ]
  },
  {
   "cell_type": "code",
   "execution_count": null,
   "id": "b9d76a19",
   "metadata": {},
   "outputs": [],
   "source": [
    "from cryptography.fernet import Fernet\n",
    "\n",
    "# Generate a key\n",
    "key = Fernet.generate_key()\n",
    "cipher_suite = Fernet(key)\n",
    "\n",
    "print(key)\n",
    "\n",
    "\n",
    "# Encrypt data\n",
    "text = b\"Hello, World!\"\n",
    "cipher_text = cipher_suite.encrypt(text)\n",
    "print(f\"Encrypted: {cipher_text}\")\n",
    "\n",
    "# Decrypt data\n",
    "plain_text = cipher_suite.decrypt(cipher_text)\n",
    "print(f\"Decrypted: {plain_text}\")\n"
   ]
  },
  {
   "cell_type": "markdown",
   "id": "c3096e76",
   "metadata": {},
   "source": [
    "# Asymmetric Encryption Example"
   ]
  },
  {
   "cell_type": "code",
   "execution_count": null,
   "id": "5b565dd2",
   "metadata": {},
   "outputs": [],
   "source": [
    "!pip install cryptography"
   ]
  },
  {
   "cell_type": "code",
   "execution_count": null,
   "id": "54c9ed22",
   "metadata": {},
   "outputs": [],
   "source": [
    "from cryptography.hazmat.primitives.asymmetric import rsa\n",
    "from cryptography.hazmat.primitives import serialization, hashes\n",
    "from cryptography.hazmat.primitives.asymmetric import padding\n",
    "\n",
    "# Generate RSA keys\n",
    "private_key = rsa.generate_private_key(\n",
    "    public_exponent=65537,\n",
    "    key_size=2048,\n",
    ")\n",
    "\n",
    "public_key = private_key.public_key()\n",
    "\n",
    "# Serialize keys to PEM format (optional, for storage or transmission)\n",
    "private_pem = private_key.private_bytes(\n",
    "    encoding=serialization.Encoding.PEM,\n",
    "    format=serialization.PrivateFormat.TraditionalOpenSSL,\n",
    "    encryption_algorithm=serialization.NoEncryption()\n",
    ")\n",
    "\n",
    "public_pem = public_key.public_bytes(\n",
    "    encoding=serialization.Encoding.PEM,\n",
    "    format=serialization.PublicFormat.SubjectPublicKeyInfo\n",
    ")\n",
    "\n",
    "# Print PEM keys (optional)\n",
    "print(private_pem.decode('utf-8'))\n",
    "print(public_pem.decode('utf-8'))\n",
    "\n",
    "# Encrypt data using the public key\n",
    "message = b\"Hello, World!\"\n",
    "ciphertext = public_key.encrypt(\n",
    "    message,\n",
    "    padding.OAEP(\n",
    "        mgf=padding.MGF1(algorithm=hashes.SHA256()),\n",
    "        algorithm=hashes.SHA256(),\n",
    "        label=None\n",
    "    )\n",
    ")\n",
    "print(f\"Encrypted: {ciphertext}\")\n",
    "\n",
    "# Decrypt data using the private key\n",
    "plaintext = private_key.decrypt(\n",
    "    ciphertext,\n",
    "    padding.OAEP(\n",
    "        mgf=padding.MGF1(algorithm=hashes.SHA256()),\n",
    "        algorithm=hashes.SHA256(),\n",
    "        label=None\n",
    "    )\n",
    ")\n",
    "print(f\"Decrypted: {plaintext}\")\n"
   ]
  },
  {
   "cell_type": "markdown",
   "id": "526ef918",
   "metadata": {},
   "source": [
    "# Hashing"
   ]
  },
  {
   "cell_type": "code",
   "execution_count": null,
   "id": "ce439323",
   "metadata": {},
   "outputs": [],
   "source": [
    "!pip install hashlib"
   ]
  },
  {
   "cell_type": "code",
   "execution_count": null,
   "id": "bb532f10",
   "metadata": {},
   "outputs": [],
   "source": [
    "import hashlib\n",
    "\n",
    "# The message to be hashed\n",
    "message = \"Hello, World!\"\n",
    "\n",
    "# Create a SHA-256 hash object\n",
    "sha256 = hashlib.sha256()\n",
    "\n",
    "# Update the hash object with the bytes of the message\n",
    "sha256.update(message.encode('utf-8'))\n",
    "\n",
    "# Retrieve the hexadecimal representation of the hash\n",
    "hash_value = sha256.hexdigest()\n",
    "\n",
    "print(f\"Message: {message}\")\n",
    "print(f\"SHA-256 Hash: {hash_value}\")\n"
   ]
  },
  {
   "cell_type": "markdown",
   "id": "d9e19a13",
   "metadata": {},
   "source": [
    "## Exercises"
   ]
  },
  {
   "cell_type": "markdown",
   "id": "476e3309",
   "metadata": {},
   "source": [
    "Here are some hashes of some common passwords:\n",
    "\n",
    "1. 5e884898da28047151d0e56f8dc6292773603d0d6aabbdd62a11ef721d1542d8\n",
    "2. ef92b778bafe771e89245b89ecbc08a44a4e166c06659911881f383d4473e94f\n",
    "3. ef797c8118f02dfb649607dd5d3f8c7623048c9c063d532cc95c5ed7a898a64f\n",
    "4. 03ac674216f3e15c761ee1a5e255f067953623c8b388b4459e13f978d7c846f4\n",
    "5. 5994471abb01112afcc18159f6cc74b4f511b99806da59b3caf5a9c173cacfc5\n",
    "\n",
    "Guess their original password!"
   ]
  },
  {
   "cell_type": "markdown",
   "id": "5c6f83a9",
   "metadata": {},
   "source": [
    "# Brute Force Password Cracking"
   ]
  },
  {
   "cell_type": "code",
   "execution_count": null,
   "id": "dfbd7254",
   "metadata": {},
   "outputs": [],
   "source": [
    "import hashlib\n",
    "import itertools\n",
    "import string\n",
    "\n",
    "def brute_force_sha256(target_hash):\n",
    "    charset = string.ascii_lowercase + string.digits\n",
    "    for length in range(1, 9):  # Limiting length for simplicity\n",
    "        for guess in itertools.product(charset, repeat=length):\n",
    "            password = ''.join(guess)\n",
    "            if hashlib.sha256(password.encode()).hexdigest() == target_hash:\n",
    "                return password\n",
    "    return None\n",
    "\n",
    "hashed_password = \"a665a45920422f9d417e4867efdc4fb8a04a1f3fff1fa07e998e86f7f7a27ae3\"\n",
    "cracked_password = brute_force_sha256(hashed_password)\n",
    "if cracked_password:\n",
    "    print(f\"Password cracked: {cracked_password}\")\n",
    "else:\n",
    "    print(\"Password not found.\")\n"
   ]
  },
  {
   "cell_type": "markdown",
   "id": "c67338dd",
   "metadata": {},
   "source": [
    "# Hashing a Password with Salt"
   ]
  },
  {
   "cell_type": "code",
   "execution_count": null,
   "id": "ff7457b8",
   "metadata": {},
   "outputs": [],
   "source": [
    "import hashlib\n",
    "import os\n",
    "\n",
    "def hash_password(password, salt=None):\n",
    "    if not salt:\n",
    "        # Generate a new salt\n",
    "        salt = os.urandom(16)\n",
    "    \n",
    "    # Combine the salt and password\n",
    "    salted_password = salt + password.encode('utf-8')\n",
    "\n",
    "    # Create a SHA-256 hash object\n",
    "    sha256 = hashlib.sha256()\n",
    "\n",
    "    # Update the hash object with the salted password\n",
    "    sha256.update(salted_password)\n",
    "\n",
    "    # Retrieve the hexadecimal representation of the hash\n",
    "    hash_value = sha256.hexdigest()\n",
    "\n",
    "    return salt, hash_value\n",
    "\n",
    "# Example usage\n",
    "password = \"super_secure_password\"\n",
    "salt, hashed_password = hash_password(password)\n",
    "\n",
    "print(f\"Password: {password}\")\n",
    "print(f\"Salt: {salt.hex()}\")\n",
    "print(f\"Hashed Password: {hashed_password}\")\n"
   ]
  },
  {
   "cell_type": "markdown",
   "id": "6fd7ccb5",
   "metadata": {},
   "source": [
    "## Storing the password salt"
   ]
  },
  {
   "cell_type": "code",
   "execution_count": null,
   "id": "9642a362",
   "metadata": {},
   "outputs": [],
   "source": [
    "users_list = []\n",
    "\n",
    "salt, hashed_password = hash_password('topsecret')\n",
    "user1 = {\n",
    "    \"username\": \"user1\",\n",
    "    \"password\": hashed_password,\n",
    "    \"salt\": salt\n",
    "}\n",
    "\n",
    "salt, hashed_password = hash_password('nosecret')\n",
    "user2 = {\n",
    "    \"username\": \"user2\",\n",
    "    \"password\": hashed_password,\n",
    "    \"salt\": salt\n",
    "}\n",
    "\n",
    "users_list.append(user1)\n",
    "users_list.append(user2)"
   ]
  },
  {
   "cell_type": "markdown",
   "id": "6ca933af",
   "metadata": {},
   "source": [
    "## Authenticating the user"
   ]
  },
  {
   "cell_type": "code",
   "execution_count": null,
   "id": "63468c6c",
   "metadata": {},
   "outputs": [],
   "source": [
    "username = input('Please enter username: ')\n",
    "userfound = False\n",
    "for user in users_list:\n",
    "    if user['username'] == username:\n",
    "        password = input('Please enter password: ')\n",
    "        userfound = True\n",
    "        _, hashed_password = hash_password(password, user['salt'])\n",
    "        if hashed_password == user['password']:\n",
    "            print('Welcome')\n",
    "        else:\n",
    "            print('Incorrect password')\n",
    "        break\n",
    "    \n",
    "if not userfound:\n",
    "    print('User not found!')"
   ]
  },
  {
   "cell_type": "code",
   "execution_count": null,
   "id": "9dd3e80b",
   "metadata": {},
   "outputs": [],
   "source": [
    "users_list"
   ]
  },
  {
   "cell_type": "markdown",
   "id": "2bed4089",
   "metadata": {},
   "source": [
    "# File Integrity using Hashing"
   ]
  },
  {
   "cell_type": "code",
   "execution_count": null,
   "id": "869ddaff",
   "metadata": {},
   "outputs": [],
   "source": [
    "import hashlib\n",
    "\n",
    "def hash_file(filename):\n",
    "    \"\"\"Generate SHA-256 hash of a file.\"\"\"\n",
    "    sha256 = hashlib.sha256()\n",
    "    with open(filename, \"rb\") as file:\n",
    "        while chunk := file.read(4096):\n",
    "            sha256.update(chunk)\n",
    "    return sha256.hexdigest()\n",
    "\n",
    "# Generate and compare file hash\n",
    "original_file_hash = hash_file(\"banana1.jpg\")\n",
    "print(f\"Original File Hash: {original_file_hash}\")\n",
    "\n",
    "# After some changes or transmission, verify integrity\n",
    "new_file_hash = hash_file(\"banana1.jpg\")\n",
    "if original_file_hash == new_file_hash:\n",
    "    print(\"File integrity verified!\")\n",
    "else:\n",
    "    print(\"File has been tampered with or corrupted.\")\n"
   ]
  },
  {
   "cell_type": "markdown",
   "id": "400ca5da",
   "metadata": {},
   "source": [
    "# SQL Injection"
   ]
  },
  {
   "cell_type": "code",
   "execution_count": null,
   "id": "d985490a",
   "metadata": {},
   "outputs": [],
   "source": [
    "import sqlite3\n",
    "\n",
    "# Create an in-memory SQLite database\n",
    "conn = sqlite3.connect(':memory:')\n",
    "cursor = conn.cursor()\n",
    "\n",
    "cursor.execute(\"CREATE TABLE users (username TEXT, password TEXT)\")\n",
    "cursor.execute(\"INSERT INTO users (username, password) VALUES (?, ?)\", ('admin', 'password123'))\n"
   ]
  },
  {
   "cell_type": "code",
   "execution_count": null,
   "id": "6bc143a3",
   "metadata": {},
   "outputs": [],
   "source": [
    "# Insecure query (vulnerable to SQL injection)\n",
    "username_input = \"' OR '1'='1\"\n",
    "# username_input = \"'; DROP TABLE users; --\"\n",
    "\n",
    "query = f\"SELECT * FROM users WHERE username = '{username_input}'\"\n",
    "\n",
    "try:\n",
    "    cursor.execute(query)\n",
    "    print(cursor.fetchall())\n",
    "except Exception as e:\n",
    "    print(f\"Error: {e}\")"
   ]
  },
  {
   "cell_type": "code",
   "execution_count": null,
   "id": "e19840b1",
   "metadata": {},
   "outputs": [],
   "source": [
    "# Secure query using parameterized statements\n",
    "username_input = \"admin\"\n",
    "query = \"SELECT * FROM users WHERE username = ?\"\n",
    "\n",
    "cursor.execute(query, (username_input,))\n",
    "print(cursor.fetchall())"
   ]
  },
  {
   "cell_type": "code",
   "execution_count": null,
   "id": "9a8cd60f",
   "metadata": {},
   "outputs": [],
   "source": [
    "import sqlite3\n",
    "\n",
    "# Create an in-memory SQLite database\n",
    "conn = sqlite3.connect(':memory:')\n",
    "cursor = conn.cursor()\n",
    "\n",
    "# Create a sample users table\n",
    "cursor.execute(\"CREATE TABLE users (username TEXT, password TEXT)\")\n",
    "cursor.execute(\"INSERT INTO users (username, password) VALUES ('admin', 'securepassword')\")\n",
    "cursor.execute(\"INSERT INTO users (username, password) VALUES ('user1', 'password123')\")\n",
    "\n",
    "# Function to simulate a login (vulnerable to SQL injection)\n",
    "def login(username, password):\n",
    "    # Insecure query vulnerable to SQL injection\n",
    "    query = f\"SELECT * FROM users WHERE username = '{username}' AND password = '{password}'\"\n",
    "    try:\n",
    "        cursor.execute(query)\n",
    "        user = cursor.fetchone()\n",
    "        if user:\n",
    "            print(\"Login successful!\")\n",
    "        else:\n",
    "            print(\"Login failed.\")\n",
    "    except Exception as e:\n",
    "        print(f\"Error: {e}\")\n",
    "\n",
    "# SQL Injection attempt: bypassing authentication\n",
    "username_input = \"admin\"\n",
    "password_input = \"' OR '1'='1\"\n",
    "\n",
    "# Attempting to login with the injected input\n",
    "login(username_input, password_input)\n"
   ]
  },
  {
   "cell_type": "code",
   "execution_count": null,
   "id": "a214f54d",
   "metadata": {},
   "outputs": [],
   "source": [
    "def secure_login(username, password):\n",
    "    # Secure query using parameterized statements\n",
    "    query = \"SELECT * FROM users WHERE username = ? AND password = ?\"\n",
    "    cursor.execute(query, (username, password))\n",
    "    user = cursor.fetchone()\n",
    "    if user:\n",
    "        print(\"Secure login successful!\")\n",
    "    else:\n",
    "        print(\"Login failed.\")\n",
    "\n",
    "# Attempting the same SQL injection on the secure implementation\n",
    "secure_login(username_input, password_input)\n"
   ]
  },
  {
   "cell_type": "markdown",
   "id": "dae04349",
   "metadata": {},
   "source": [
    "# Time-based One-Time Password (TOTP)"
   ]
  },
  {
   "cell_type": "code",
   "execution_count": null,
   "id": "c42bedf8",
   "metadata": {},
   "outputs": [],
   "source": [
    "pip install pyotp"
   ]
  },
  {
   "cell_type": "code",
   "execution_count": null,
   "id": "5f0bcd92",
   "metadata": {},
   "outputs": [],
   "source": [
    "import pyotp\n",
    "import time\n",
    "\n",
    "# Generate a secret key (you can store this securely and reuse it)\n",
    "secret = pyotp.random_base32()\n",
    "print(f\"Your secret key: {secret}\")"
   ]
  },
  {
   "cell_type": "code",
   "execution_count": null,
   "id": "460217a6",
   "metadata": {},
   "outputs": [],
   "source": [
    "# Create a TOTP object using the secret key\n",
    "totp = pyotp.TOTP(secret)\n",
    "\n",
    "#===Set a custom interval (e.g., 60 seconds)===\n",
    "# totp = pyotp.TOTP(secret, interval=60)\n",
    "\n",
    "#===Set a custom number of digits (e.g., 8 digits)===\n",
    "# totp = pyotp.TOTP(secret, digits=8)\n",
    "\n",
    "# Generate the OTP\n",
    "otp = totp.now()\n",
    "print(f\"Your OTP: {otp}\")"
   ]
  },
  {
   "cell_type": "code",
   "execution_count": null,
   "id": "f776dfa4",
   "metadata": {},
   "outputs": [],
   "source": [
    "# You must verify within 30 seconds\n",
    "if totp.verify(otp):\n",
    "    print(\"OTP is valid!\")\n",
    "else:\n",
    "    print(\"OTP is invalid or expired.\")"
   ]
  },
  {
   "cell_type": "markdown",
   "id": "6482e1e5",
   "metadata": {},
   "source": [
    "# Using Google Authenticator"
   ]
  },
  {
   "cell_type": "code",
   "execution_count": null,
   "id": "75756aaa",
   "metadata": {},
   "outputs": [],
   "source": [
    "pip install qrcode"
   ]
  },
  {
   "cell_type": "code",
   "execution_count": null,
   "id": "98ddda08",
   "metadata": {},
   "outputs": [],
   "source": [
    "import pyotp\n",
    "import qrcode\n",
    "\n",
    "# Step 1: Generate a secret key for each user - Store the secret key securely, as it is the foundation for OTP generation.\n",
    "secret = pyotp.random_base32()\n",
    "print(f\"Secret Key: {secret}\")\n",
    "\n",
    "# Step 2: Generate a URI for the QR code (for Google Authenticator)\n",
    "# Replace 'YourAppName' and 'YourUserName' with your app's name and user's name\n",
    "totp = pyotp.TOTP(secret)\n",
    "uri = totp.provisioning_uri(name = \"YourUserName\", \n",
    "                            issuer_name = \"YourAppName\")\n",
    "\n",
    "# Step 3: Generate and display the QR code\n",
    "qr = qrcode.make(uri)\n",
    "qr.show()  # This will display the QR code"
   ]
  },
  {
   "cell_type": "code",
   "execution_count": null,
   "id": "fb2683b5",
   "metadata": {},
   "outputs": [],
   "source": [
    "totp = pyotp.TOTP(secret)\n",
    "\n",
    "# Step 4: OTP Generation (Simulating user input)\n",
    "print(\"Enter the code from Google Authenticator:\")\n",
    "user_otp = input().strip()\n",
    "\n",
    "# Step 5: Verify the OTP\n",
    "if totp.verify(user_otp):\n",
    "    print(\"The OTP is valid!\")\n",
    "else:\n",
    "    print(\"Invalid OTP!\")"
   ]
  },
  {
   "cell_type": "markdown",
   "id": "8cec03d2",
   "metadata": {},
   "source": [
    "# Answers to common passwords"
   ]
  },
  {
   "cell_type": "markdown",
   "id": "c68ab154",
   "metadata": {},
   "source": [
    "The passwords are:\n",
    "\n",
    "1. password\n",
    "2. password123\n",
    "3. 12345678\n",
    "4. 1234\n",
    "5. 12345"
   ]
  },
  {
   "cell_type": "code",
   "execution_count": null,
   "id": "f80f71bd",
   "metadata": {},
   "outputs": [],
   "source": []
  }
 ],
 "metadata": {
  "kernelspec": {
   "display_name": "Python 3 (ipykernel)",
   "language": "python",
   "name": "python3"
  },
  "language_info": {
   "codemirror_mode": {
    "name": "ipython",
    "version": 3
   },
   "file_extension": ".py",
   "mimetype": "text/x-python",
   "name": "python",
   "nbconvert_exporter": "python",
   "pygments_lexer": "ipython3",
   "version": "3.11.4"
  }
 },
 "nbformat": 4,
 "nbformat_minor": 5
}
